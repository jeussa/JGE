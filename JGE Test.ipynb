{
 "cells": [
  {
   "cell_type": "code",
   "execution_count": 1,
   "metadata": {},
   "outputs": [],
   "source": [
    "from JGE import *\n",
    "from JGE2D import Model as M2D, Renderer as R2D\n",
    "from JGEManual import Renderer as RM"
   ]
  },
  {
   "cell_type": "code",
   "execution_count": 2,
   "metadata": {},
   "outputs": [],
   "source": [
    "engine = Engine()"
   ]
  },
  {
   "cell_type": "code",
   "execution_count": 3,
   "metadata": {},
   "outputs": [],
   "source": [
    "r2d = R2D(engine)\n",
    "engine.modules.append(r2d)\n",
    "\n",
    "rm = RM(engine)\n",
    "engine.modules.append(rm)"
   ]
  },
  {
   "cell_type": "code",
   "execution_count": 4,
   "metadata": {
    "tags": []
   },
   "outputs": [
    {
     "output_type": "stream",
     "name": "stdout",
     "text": "==========================================================================\nos.name == \"nt\"\nsys.platform == \"win32\"\nplatform.system() == \"Windows\"\nplatform.machine() == \"AMD64\"\nplatform.architecture() == \"('64bit', 'WindowsPE')\"\nsys.version == \"3.7.4 (default, Aug  9 2019, 18:34:13) [MSC v.1915 64 bit (AMD64)]\"\n==========================================================================\nLoading modules ...\nEnabling modules ...\nStartup done! [538 ms]\n"
    }
   ],
   "source": [
    "engine.start()"
   ]
  },
  {
   "cell_type": "code",
   "execution_count": 5,
   "metadata": {},
   "outputs": [],
   "source": [
    "task = engine.scheduler.schedule(lambda: GLFW.set_window_title(engine.window, \"UPS: {u}\".format(u=engine.ups.get())), delay=1, interval=1)\n",
    "\n",
    "texture = Texture.create_from_png(\"res/TreeTexture.png\")\n",
    "r2d.models.append(M2D(texture, 0, -.5))"
   ]
  },
  {
   "cell_type": "code",
   "execution_count": 6,
   "metadata": {
    "tags": []
   },
   "outputs": [
    {
     "output_type": "stream",
     "name": "stdout",
     "text": "Entering loop ...\nExiting loop ...\n"
    }
   ],
   "source": [
    "engine.loop()"
   ]
  },
  {
   "cell_type": "code",
   "execution_count": 7,
   "metadata": {
    "tags": []
   },
   "outputs": [
    {
     "output_type": "stream",
     "name": "stdout",
     "text": "Disabling modules ...\nStopping JGEngine ...\nJGEngine stopped\n"
    }
   ],
   "source": [
    "engine.end()"
   ]
  },
  {
   "cell_type": "code",
   "execution_count": null,
   "metadata": {},
   "outputs": [],
   "source": []
  },
  {
   "cell_type": "code",
   "execution_count": null,
   "metadata": {},
   "outputs": [],
   "source": []
  }
 ],
 "metadata": {
  "interpreter": {
   "hash": "31f2aee4e71d21fbe5cf8b01ff0e069b9275f58929596ceb00d14d90e3e16cd6"
  },
  "kernelspec": {
   "display_name": "Python 3",
   "language": "python",
   "name": "python3"
  },
  "language_info": {
   "codemirror_mode": {
    "name": "ipython",
    "version": 3
   },
   "file_extension": ".py",
   "mimetype": "text/x-python",
   "name": "python",
   "nbconvert_exporter": "python",
   "pygments_lexer": "ipython3",
   "version": "3.7.4-final"
  }
 },
 "nbformat": 4,
 "nbformat_minor": 2
}